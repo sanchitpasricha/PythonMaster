{
 "cells": [
  {
   "cell_type": "markdown",
   "id": "1cb8341e",
   "metadata": {},
   "source": [
    "Count number of characters"
   ]
  },
  {
   "cell_type": "code",
   "execution_count": 1,
   "id": "8664fa9c",
   "metadata": {},
   "outputs": [
    {
     "name": "stdout",
     "output_type": "stream",
     "text": [
      "5\n"
     ]
    }
   ],
   "source": [
    "print(len(\"Hello\"))"
   ]
  },
  {
   "cell_type": "markdown",
   "id": "3f19a741",
   "metadata": {},
   "source": [
    "Subscript"
   ]
  },
  {
   "cell_type": "code",
   "execution_count": 2,
   "id": "79969a9c",
   "metadata": {},
   "outputs": [
    {
     "name": "stdout",
     "output_type": "stream",
     "text": [
      "H\n"
     ]
    }
   ],
   "source": [
    "print(\"Hello\"[0])"
   ]
  },
  {
   "cell_type": "code",
   "execution_count": 3,
   "id": "5f5c002e",
   "metadata": {},
   "outputs": [
    {
     "name": "stdout",
     "output_type": "stream",
     "text": [
      "o\n"
     ]
    }
   ],
   "source": [
    "print(\"Hello\"[-1])"
   ]
  },
  {
   "cell_type": "code",
   "execution_count": 4,
   "id": "7aa150b7",
   "metadata": {},
   "outputs": [
    {
     "name": "stdout",
     "output_type": "stream",
     "text": [
      "468\n"
     ]
    }
   ],
   "source": [
    "print(123 + 345)"
   ]
  },
  {
   "cell_type": "markdown",
   "id": "bc69223c",
   "metadata": {},
   "source": [
    "## Bmi calculator and type conversion"
   ]
  },
  {
   "cell_type": "code",
   "execution_count": 4,
   "id": "e86deb11",
   "metadata": {},
   "outputs": [
    {
     "name": "stdout",
     "output_type": "stream",
     "text": [
      "Enter your height in m: 1.75\n",
      "Enter yout weight in kg: 80\n",
      "26.12\n"
     ]
    }
   ],
   "source": [
    "height = float(input(\"Enter your height in m: \"))\n",
    "weight = int(input(\"Enter yout weight in kg: \"))\n",
    "bmi = weight / height**2\n",
    "print(round(bmi,2))\n",
    "\n",
    "# round number can be obtained using // or by typecasting"
   ]
  }
 ],
 "metadata": {
  "kernelspec": {
   "display_name": "Python 3 (ipykernel)",
   "language": "python",
   "name": "python3"
  },
  "language_info": {
   "codemirror_mode": {
    "name": "ipython",
    "version": 3
   },
   "file_extension": ".py",
   "mimetype": "text/x-python",
   "name": "python",
   "nbconvert_exporter": "python",
   "pygments_lexer": "ipython3",
   "version": "3.10.4"
  }
 },
 "nbformat": 4,
 "nbformat_minor": 5
}
