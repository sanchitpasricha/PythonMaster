{
 "cells": [
  {
   "cell_type": "markdown",
   "id": "f0828f13",
   "metadata": {},
   "source": [
    "## Nested statements"
   ]
  },
  {
   "cell_type": "code",
   "execution_count": 15,
   "id": "cea3571d",
   "metadata": {},
   "outputs": [
    {
     "name": "stdout",
     "output_type": "stream",
     "text": [
      "                    ____...------------...____\n",
      "               _.-\"` /o/__ ____ __ __  __ \\o\\_`\"-._\n",
      "             .'     / /                    \\ \\     '.\n",
      "             |=====/o/======================\\o\\=====|\n",
      "             |____/_/________..____..________\\_\\____|\n",
      "             /   _/ \\_     <_o#\\__/#o_>     _/ \\_   \\\n",
      "             \\_________\\####/_________/\n",
      "              |===\\!/========================\\!/===|\n",
      "              |   |=|          .---.         |=|   |\n",
      "              |===|o|=========/     \\========|o|===|\n",
      "              |   | |         \\() ()/        | |   |\n",
      "              |===|o|======{'-.) A (.-'}=====|o|===|\n",
      "              | __/ \\__     '-.\\uuu/.-'    __/ \\__ |\n",
      "              |==== .'.'^'.'.====|\n",
      "          jgs |  _\\o/   __  {.' __  '.} _   _\\o/  _|\n",
      "              `\"\"\"\"-\"\"\"\"\"\"\"\"\"\"\"\"\"\"\"\"\"\"\"\"\"\"\"\"\"\"-\"\"\"\"`\n",
      "\n",
      "\n",
      "Welcome to the treasure game\n",
      "Your mission is to find the tressure !\n",
      "In which direction do you want to go 'Left' or 'Righ' ?left\n",
      "Swim / Wait ?wait\n",
      "Which Door? Red, Blue, Yellow blue\n",
      "GAME OVER\n",
      "Eaten by beasts\n"
     ]
    }
   ],
   "source": [
    "print(r'''                    ____...------------...____\n",
    "               _.-\"` /o/__ ____ __ __  __ \\o\\_`\"-._\n",
    "             .'     / /                    \\ \\     '.\n",
    "             |=====/o/======================\\o\\=====|\n",
    "             |____/_/________..____..________\\_\\____|\n",
    "             /   _/ \\_     <_o#\\__/#o_>     _/ \\_   \\\n",
    "             \\_________\\####/_________/\n",
    "              |===\\!/========================\\!/===|\n",
    "              |   |=|          .---.         |=|   |\n",
    "              |===|o|=========/     \\========|o|===|\n",
    "              |   | |         \\() ()/        | |   |\n",
    "              |===|o|======{'-.) A (.-'}=====|o|===|\n",
    "              | __/ \\__     '-.\\uuu/.-'    __/ \\__ |\n",
    "              |==== .'.'^'.'.====|\n",
    "          jgs |  _\\o/   __  {.' __  '.} _   _\\o/  _|\n",
    "              `\"\"\"\"-\"\"\"\"\"\"\"\"\"\"\"\"\"\"\"\"\"\"\"\"\"\"\"\"\"\"-\"\"\"\"`''')\n",
    "\n",
    "print(\"\\n\")\n",
    "print(\"Welcome to the treasure game\\nYour mission is to find the tressure !\")\n",
    "\n",
    "direction = input(\"In which direction do you want to go 'Left' or 'Righ' ?\")\n",
    "\n",
    "if direction == 'left':\n",
    "    swim = input('Swim / Wait ?')\n",
    "    if (swim == 'wait'):\n",
    "        door = input(\"Which Door? Red, Blue, Yellow \")\n",
    "        if(door == 'red'):\n",
    "            print('GAME OVER\\nBurned by fire!')\n",
    "        elif(door == 'blue'):\n",
    "            print(\"GAME OVER\\nEaten by beasts\")\n",
    "        elif(door == 'yellow'):\n",
    "            print('You Win!')\n",
    "        else:\n",
    "            print('GAME OVER !')\n",
    "    else:\n",
    "        print('GAME OVER\\nAttacked by trout')\n",
    "else:\n",
    "    print('GAME OVER\\nFell into a hole')"
   ]
  }
 ],
 "metadata": {
  "kernelspec": {
   "display_name": "Python 3 (ipykernel)",
   "language": "python",
   "name": "python3"
  },
  "language_info": {
   "codemirror_mode": {
    "name": "ipython",
    "version": 3
   },
   "file_extension": ".py",
   "mimetype": "text/x-python",
   "name": "python",
   "nbconvert_exporter": "python",
   "pygments_lexer": "ipython3",
   "version": "3.10.4"
  }
 },
 "nbformat": 4,
 "nbformat_minor": 5
}
