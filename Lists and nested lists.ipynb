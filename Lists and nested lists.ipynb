{
 "cells": [
  {
   "cell_type": "markdown",
   "id": "7f26079d",
   "metadata": {},
   "source": [
    "### LIst datastructure"
   ]
  },
  {
   "cell_type": "code",
   "execution_count": 1,
   "id": "4c53da70",
   "metadata": {},
   "outputs": [],
   "source": [
    "states_of_india = ['Haryana', 'Uttrakhand', 'Chandigharh']"
   ]
  },
  {
   "cell_type": "code",
   "execution_count": 2,
   "id": "dc21c4da",
   "metadata": {},
   "outputs": [
    {
     "name": "stdout",
     "output_type": "stream",
     "text": [
      "Chandigharh\n"
     ]
    }
   ],
   "source": [
    "print(states_of_india[-1])"
   ]
  },
  {
   "cell_type": "markdown",
   "id": "05ee9f5c",
   "metadata": {},
   "source": [
    "### Appending into the list"
   ]
  },
  {
   "cell_type": "code",
   "execution_count": 3,
   "id": "1d31a900",
   "metadata": {},
   "outputs": [],
   "source": [
    "states_of_india.append('Himachal Pradesh')"
   ]
  },
  {
   "cell_type": "code",
   "execution_count": 4,
   "id": "1ef1e11a",
   "metadata": {},
   "outputs": [
    {
     "name": "stdout",
     "output_type": "stream",
     "text": [
      "['Haryana', 'Uttrakhand', 'Chandigharh', 'Himachal Pradesh']\n"
     ]
    }
   ],
   "source": [
    "print(states_of_india)"
   ]
  },
  {
   "cell_type": "markdown",
   "id": "9831965d",
   "metadata": {},
   "source": [
    "### Generating random number"
   ]
  },
  {
   "cell_type": "code",
   "execution_count": 8,
   "id": "5ac75d5d",
   "metadata": {},
   "outputs": [
    {
     "name": "stdout",
     "output_type": "stream",
     "text": [
      "4\n"
     ]
    }
   ],
   "source": [
    "import random\n",
    "\n",
    "print(random.randint(0, 10))"
   ]
  },
  {
   "cell_type": "code",
   "execution_count": 21,
   "id": "ec21ec75",
   "metadata": {},
   "outputs": [
    {
     "name": "stdout",
     "output_type": "stream",
     "text": [
      "ruby is awesome\n"
     ]
    }
   ],
   "source": [
    "names = ['otis', 'ruby', 'eric', 'meave', 'jackson']\n",
    "\n",
    "no_of_names = len(names)\n",
    "random_number = random.randint(0,no_of_names-1)\n",
    "print(names[random_number] + ' is awesome')"
   ]
  },
  {
   "cell_type": "code",
   "execution_count": 24,
   "id": "9f1865f7",
   "metadata": {},
   "outputs": [
    {
     "name": "stdout",
     "output_type": "stream",
     "text": [
      "eric\n"
     ]
    }
   ],
   "source": [
    "print(random.choice(names))"
   ]
  },
  {
   "cell_type": "markdown",
   "id": "e32a2ee6",
   "metadata": {},
   "source": [
    "### Treasury game"
   ]
  },
  {
   "cell_type": "code",
   "execution_count": 34,
   "id": "7c7267bb",
   "metadata": {},
   "outputs": [
    {
     "name": "stdout",
     "output_type": "stream",
     "text": [
      "['🟥', '🟥', '🟥']\n",
      "['🟥', '🟥', '🟥']\n",
      "['🟥', '🟥', '🟥']\n",
      "Where do you want to put the cross ?22\n",
      "['🟥', '🟥', '🟥']\n",
      "['🟥', ' *', '🟥']\n",
      "['🟥', '🟥', '🟥']\n"
     ]
    }
   ],
   "source": [
    "row1 = [\"🟥\", \"🟥\", \"🟥\"]\n",
    "row2 = [\"🟥\", \"🟥\", \"🟥\"]\n",
    "row3 = [\"🟥\", \"🟥\", \"🟥\"]\n",
    "\n",
    "map = [row1, row2, row3]\n",
    "print(f\"{row1}\\n{row2}\\n{row3}\")\n",
    "\n",
    "position = input(\"Where do you want to put the cross ?\")\n",
    "\n",
    "# position will hold value in string\n",
    "\n",
    "column = int(position[0]) - 1\n",
    "row = int(position[1]) - 1\n",
    "\n",
    "map[row][column] = \" *\";\n",
    "print(f\"{row1}\\n{row2}\\n{row3}\")"
   ]
  },
  {
   "cell_type": "markdown",
   "id": "0b7e9b65",
   "metadata": {},
   "source": [
    "### Rock, Paper,  Scissors Game"
   ]
  },
  {
   "cell_type": "code",
   "execution_count": 28,
   "id": "631034a4",
   "metadata": {},
   "outputs": [
    {
     "name": "stdout",
     "output_type": "stream",
     "text": [
      "Enter your choice 0 for rock, 1 for paper, 2 for scissors : 1\n",
      "You chose            \n",
      "    _______\n",
      "---'   ____)____\n",
      "          ______)\n",
      "          _______)\n",
      "         _______)\n",
      "---.__________)\n",
      "\n",
      "Computer chose \n",
      "    _______\n",
      "---'   ____)\n",
      "      (_____)\n",
      "      (_____)\n",
      "      (____)\n",
      "---.__(___)                                \n",
      "\n",
      "You Win!\n"
     ]
    }
   ],
   "source": [
    "import random\n",
    "\n",
    "rock = '''\n",
    "    _______\n",
    "---'   ____)\n",
    "      (_____)\n",
    "      (_____)\n",
    "      (____)\n",
    "---.__(___)                                \n",
    "'''\n",
    "\n",
    "paper = '''           \n",
    "    _______\n",
    "---'   ____)____\n",
    "          ______)\n",
    "          _______)\n",
    "         _______)\n",
    "---.__________)\n",
    "'''\n",
    "\n",
    "scissors = '''\n",
    "    _______\n",
    "---'   ____)____\n",
    "          ______)\n",
    "       __________)\n",
    "      (____)\n",
    "---.__(___)\n",
    "'''\n",
    "\n",
    "choices = [rock, paper, scissors]\n",
    "\n",
    "\n",
    "user = int(input('Enter your choice 0 for rock, 1 for paper, 2 for scissors : '))\n",
    "\n",
    "# always check first if the user has enetered the right choice then move forward!\n",
    "\n",
    "if(user >= 3 or user < 0):\n",
    "    print(\"You chose invalid option !\")\n",
    "\n",
    "else:\n",
    "    computer = random.randint(0,2)\n",
    "    print(f'You chose {choices[user]}')\n",
    "    print(f'Computer chose {choices[computer]}')\n",
    "\n",
    "    if(user == 0 and computer == 2):\n",
    "        print(\"You Win!\")\n",
    "\n",
    "    elif(computer == 0 and user == 2):\n",
    "        print(\"You Lose!\")\n",
    "\n",
    "    elif(computer > user):\n",
    "        print(\"You Lose!\")\n",
    "\n",
    "    elif(user > computer):\n",
    "        print(\"You Win!\")\n",
    "\n",
    "    else:\n",
    "        print(\"Its a Draw !\")"
   ]
  }
 ],
 "metadata": {
  "kernelspec": {
   "display_name": "Python 3 (ipykernel)",
   "language": "python",
   "name": "python3"
  },
  "language_info": {
   "codemirror_mode": {
    "name": "ipython",
    "version": 3
   },
   "file_extension": ".py",
   "mimetype": "text/x-python",
   "name": "python",
   "nbconvert_exporter": "python",
   "pygments_lexer": "ipython3",
   "version": "3.10.4"
  }
 },
 "nbformat": 4,
 "nbformat_minor": 5
}
