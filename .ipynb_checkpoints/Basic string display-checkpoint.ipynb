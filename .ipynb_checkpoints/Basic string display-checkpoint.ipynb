{
 "cells": [
  {
   "cell_type": "code",
   "execution_count": 1,
   "id": "1de4e20b",
   "metadata": {},
   "outputs": [
    {
     "name": "stdout",
     "output_type": "stream",
     "text": [
      "Hello world\n"
     ]
    }
   ],
   "source": [
    "print(\"Hello world\")"
   ]
  },
  {
   "cell_type": "markdown",
   "id": "8a47e120",
   "metadata": {},
   "source": [
    "Concatination of two strings\n"
   ]
  },
  {
   "cell_type": "code",
   "execution_count": 4,
   "id": "84bbf7d0",
   "metadata": {},
   "outputs": [
    {
     "name": "stdout",
     "output_type": "stream",
     "text": [
      "Hello Sanchit\n"
     ]
    }
   ],
   "source": [
    "print(\"Hello\" + \" \" + \"Sanchit\")"
   ]
  },
  {
   "cell_type": "markdown",
   "id": "300574ae",
   "metadata": {},
   "source": [
    "Taking input"
   ]
  },
  {
   "cell_type": "code",
   "execution_count": 8,
   "id": "219ccd06",
   "metadata": {},
   "outputs": [
    {
     "name": "stdout",
     "output_type": "stream",
     "text": [
      "What is your name ?sanchit\n",
      "Hello sanchit\n"
     ]
    }
   ],
   "source": [
    "print(\"Hello\" + \" \" + input(\"What is your name ?\"))"
   ]
  },
  {
   "cell_type": "markdown",
   "id": "53e323dd",
   "metadata": {},
   "source": [
    "Variables"
   ]
  },
  {
   "cell_type": "code",
   "execution_count": 10,
   "id": "1093a19f",
   "metadata": {},
   "outputs": [
    {
     "name": "stdout",
     "output_type": "stream",
     "text": [
      "Enter your namesanchit\n",
      "sanchit\n"
     ]
    }
   ],
   "source": [
    "name = input(\"Enter your name\")\n",
    "print(name)"
   ]
  }
 ],
 "metadata": {
  "kernelspec": {
   "display_name": "Python 3 (ipykernel)",
   "language": "python",
   "name": "python3"
  },
  "language_info": {
   "codemirror_mode": {
    "name": "ipython",
    "version": 3
   },
   "file_extension": ".py",
   "mimetype": "text/x-python",
   "name": "python",
   "nbconvert_exporter": "python",
   "pygments_lexer": "ipython3",
   "version": "3.10.4"
  }
 },
 "nbformat": 4,
 "nbformat_minor": 5
}
