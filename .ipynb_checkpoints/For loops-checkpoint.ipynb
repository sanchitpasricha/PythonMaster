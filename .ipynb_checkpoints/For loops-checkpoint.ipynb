{
 "cells": [
  {
   "cell_type": "markdown",
   "id": "970d7281",
   "metadata": {},
   "source": [
    "### For loop"
   ]
  },
  {
   "cell_type": "code",
   "execution_count": 2,
   "id": "a0142518",
   "metadata": {},
   "outputs": [
    {
     "name": "stdout",
     "output_type": "stream",
     "text": [
      "['mango', 'orange', 'apple', 'banana']\n",
      "mango\n",
      "orange\n",
      "apple\n",
      "banana\n"
     ]
    }
   ],
   "source": [
    "fruits = ['mango', 'orange', 'apple', 'banana']\n",
    "print(fruits)\n",
    "\n",
    "for fruit in fruits:\n",
    "    print(fruit)"
   ]
  },
  {
   "cell_type": "markdown",
   "id": "b3ce3203",
   "metadata": {},
   "source": [
    "### Average height"
   ]
  },
  {
   "cell_type": "code",
   "execution_count": 7,
   "id": "226bbfe1",
   "metadata": {},
   "outputs": [
    {
     "name": "stdout",
     "output_type": "stream",
     "text": [
      "Enter a list of student heights seperated by comma : 150,160,155\n",
      "155\n"
     ]
    }
   ],
   "source": [
    "student_heights = input(\"Enter a list of student heights seperated by comma : \").split(',')\n",
    "\n",
    "total_height = 0\n",
    "for height in student_heights:\n",
    "    total_height = total_height + int(height)\n",
    "\n",
    "print(total_height//len(student_heights))"
   ]
  },
  {
   "cell_type": "markdown",
   "id": "c5817658",
   "metadata": {},
   "source": [
    "### Max element"
   ]
  },
  {
   "cell_type": "code",
   "execution_count": 5,
   "id": "5422d260",
   "metadata": {},
   "outputs": [
    {
     "name": "stdout",
     "output_type": "stream",
     "text": [
      "Enter the marks of students seperated by comma : 20,40,90,70,10\n",
      "90\n"
     ]
    }
   ],
   "source": [
    "marks = input(\"Enter the marks of students seperated by comma : \").split(',')\n",
    "\n",
    "# to change all the values of list from str to int\n",
    "marks = [int(x) for x in marks] \n",
    "\n",
    "max = -1\n",
    "for x in marks:\n",
    "    if(max < x):\n",
    "        max = x\n",
    "\n",
    "print(max)"
   ]
  },
  {
   "cell_type": "markdown",
   "id": "969ba478",
   "metadata": {},
   "source": [
    "### Generating random password"
   ]
  },
  {
   "cell_type": "code",
   "execution_count": 4,
   "id": "043eb4b2",
   "metadata": {},
   "outputs": [
    {
     "name": "stdout",
     "output_type": "stream",
     "text": [
      "Welcome to the PyPassword Generator!\n",
      "How many letters would you like in your password?\n",
      "3\n",
      "How many symbols would you like?\n",
      "2\n",
      "How many numbers would you like?\n",
      "4\n",
      "15+)aY7T9\n"
     ]
    }
   ],
   "source": [
    "import random\n",
    "letters = ['a', 'b', 'c', 'd', 'e', 'f', 'g', 'h', 'i', 'j', 'k', 'l', 'm', 'n', 'o', 'p', 'q', 'r', 's', 't', 'u', 'v', 'w', 'x', 'y', 'z', 'A', 'B', 'C', 'D', 'E', 'F', 'G', 'H', 'I', 'J', 'K', 'L', 'M', 'N', 'O', 'P', 'Q', 'R', 'S', 'T', 'U', 'V', 'W', 'X', 'Y', 'Z']\n",
    "numbers = ['0', '1', '2', '3', '4', '5', '6', '7', '8', '9']\n",
    "symbols = ['!', '#', '$', '%', '&', '(', ')', '*', '+']\n",
    "\n",
    "print(\"Welcome to the PyPassword Generator!\")\n",
    "nr_letters= int(input(\"How many letters would you like in your password?\\n\")) \n",
    "nr_symbols = int(input(f\"How many symbols would you like?\\n\"))\n",
    "nr_numbers = int(input(f\"How many numbers would you like?\\n\"))\n",
    "\n",
    "password = \"\"\n",
    "\n",
    "for char in range(1, nr_letters + 1):\n",
    "    password += random.choice(letters)\n",
    "    \n",
    "for char in range(1, nr_symbols + 1):\n",
    "    password += random.choice(symbols)\n",
    "    \n",
    "for char in range(1, nr_numbers + 1):\n",
    "    password += random.choice(numbers)\n",
    "\n",
    "password = ''.join(random.sample(password,len(password)))\n",
    "\n",
    "print(password)"
   ]
  }
 ],
 "metadata": {
  "kernelspec": {
   "display_name": "Python 3 (ipykernel)",
   "language": "python",
   "name": "python3"
  },
  "language_info": {
   "codemirror_mode": {
    "name": "ipython",
    "version": 3
   },
   "file_extension": ".py",
   "mimetype": "text/x-python",
   "name": "python",
   "nbconvert_exporter": "python",
   "pygments_lexer": "ipython3",
   "version": "3.10.4"
  }
 },
 "nbformat": 4,
 "nbformat_minor": 5
}
